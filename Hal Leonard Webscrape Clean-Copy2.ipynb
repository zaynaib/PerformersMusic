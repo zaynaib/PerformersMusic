{
 "cells": [
  {
   "cell_type": "markdown",
   "metadata": {},
   "source": [
    "#Resources\n",
    "\n",
    "Writing a csv file\n",
    "\n",
    "https://www.getdatajoy.com/examples/python-data-analysis/read-and-write-a-csv-file-with-the-csv-module\n",
    "http://www.pythonforbeginners.com/systems-programming/using-the-csv-module-in-python/\n",
    "https://newcircle.com/s/post/1572/python_for_beginners_reading_and_manipulating_csv_files\n",
    "https://en.wikibooks.org/wiki/Non-Programmer%27s_Tutorial_for_Python_3/File_IO\n",
    "http://www.tutorialspoint.com/python3/python_files_io.htm\n",
    "https://dzone.com/articles/python-101-reading-and-writing\n",
    "https://www.getdatajoy.com/examples/python-data-analysis/read-and-write-a-csv-file-with-the-csv-module"
   ]
  },
  {
   "cell_type": "code",
   "execution_count": 10,
   "metadata": {
    "collapsed": true
   },
   "outputs": [],
   "source": [
    "from bs4 import BeautifulSoup\n",
    "import requests\n",
    "import csv"
   ]
  },
  {
   "cell_type": "code",
   "execution_count": 11,
   "metadata": {
    "collapsed": true
   },
   "outputs": [],
   "source": [
    "def createUrl(halLeonardItemNumber):\n",
    "    url = \"http://www.halleonard.com/product/viewproduct.action?itemid=\" + str(halLeonardItemNumber) + \"&subsiteid=1&&viewtype=instruments\"\n",
    "    return url"
   ]
  },
  {
   "cell_type": "code",
   "execution_count": 157,
   "metadata": {
    "collapsed": false
   },
   "outputs": [],
   "source": [
    "def getInstrumentation(halLeonardUrl):\n",
    "    r=requests.get(halLeonardUrl) #request the html page from Hal Leonard site\n",
    "    data= r.text  #put the request in usuable text\n",
    "    soup = BeautifulSoup(data) #create your soup data object so you can parse through the html\n",
    "    instruments = \"\" #this is the text we are going to return\n",
    "    tdTag = soup.find_all(\"td\", {\"class\":\"productContent\"}) #find all the td tags that have the class productContent\n",
    "    for tag in tdTag: #loop through all the td tags\n",
    "        ulTags = tag.find_all(\"ul\") #find the one that has an unordedlist (ul)\n",
    "        for tags in ulTags: #within the ul tag get all the instrumentation text and get rid of the new line character\\n\n",
    "            instruments = tags.text.strip()\n",
    "            instruments = instruments.replace(\"\\n\", \",\")\n",
    "    return instruments\n",
    "            \n",
    "    #return instruments.replace(\"\\n\", \" \") #get rid of the \\n inside the text and creating a list\n",
    "    #instruments = instruments.replace(\"\\n\", \" \").split(\",\") #get rid of the \\n inside the text and creating a list\n",
    "    #return instruments #return all the instruments for that book\n",
    "    \n",
    "\n",
    "    "
   ]
  },
  {
   "cell_type": "code",
   "execution_count": 161,
   "metadata": {
    "collapsed": true
   },
   "outputs": [],
   "source": [
    "def createCsv(input_file,output_file):\n",
    "    #output_file = open(\"instrumentation.csv\",\"w\")\n",
    "    with open(output_file,'w+') as mycsvfile:\n",
    "        writer = csv.writer(mycsvfile,delimiter=',')\n",
    "        with open(input_file, \"r\") as hal_ID:\n",
    "            reader = csv.reader(hal_ID)\n",
    "            for row in reader:\n",
    "                halID= row[0]\n",
    "                instr = getInstrumentation(createUrl(halID))\n",
    "                writer.writerow([halID]+[instr])\n",
    "            "
   ]
  },
  {
   "cell_type": "code",
   "execution_count": 162,
   "metadata": {
    "collapsed": false
   },
   "outputs": [],
   "source": [
    "createCsv('halTest.csv',\"mydata.csv\")"
   ]
  },
  {
   "cell_type": "code",
   "execution_count": 150,
   "metadata": {
    "collapsed": false
   },
   "outputs": [
    {
     "data": {
      "text/plain": [
       "'Violin,Violin Duet'"
      ]
     },
     "execution_count": 150,
     "metadata": {},
     "output_type": "execute_result"
    }
   ],
   "source": [
    "getInstrumentation(myUrl) "
   ]
  },
  {
   "cell_type": "code",
   "execution_count": 164,
   "metadata": {
    "collapsed": false
   },
   "outputs": [],
   "source": [
    "if __name__ == '__main__':\n",
    "\n",
    "    # your code goes here\n",
    "    createCsv('halTest.csv',\"mydata.csv\")\n",
    "    "
   ]
  },
  {
   "cell_type": "code",
   "execution_count": null,
   "metadata": {
    "collapsed": true
   },
   "outputs": [],
   "source": []
  }
 ],
 "metadata": {
  "kernelspec": {
   "display_name": "Python 3",
   "language": "python",
   "name": "python3"
  },
  "language_info": {
   "codemirror_mode": {
    "name": "ipython",
    "version": 3
   },
   "file_extension": ".py",
   "mimetype": "text/x-python",
   "name": "python",
   "nbconvert_exporter": "python",
   "pygments_lexer": "ipython3",
   "version": "3.4.3"
  }
 },
 "nbformat": 4,
 "nbformat_minor": 0
}
