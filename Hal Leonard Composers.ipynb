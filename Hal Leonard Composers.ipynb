{
 "cells": [
  {
   "cell_type": "markdown",
   "metadata": {},
   "source": [
    "#Resources\n",
    "http://jakeaustwick.me/python-web-scraping-resource/\n",
    "http://lxml.de/tutorial.html#parsing-from-strings-and-files\n",
    "http://docs.python-guide.org/en/latest/scenarios/scrape/\n",
    "http://www.gregreda.com/2013/03/03/web-scraping-101-with-python/\n",
    "http://www.ianbicking.org/blog/2008/12/lxml-an-underappreciated-web-scraping-library.html"
   ]
  },
  {
   "cell_type": "code",
   "execution_count": 49,
   "metadata": {
    "collapsed": true
   },
   "outputs": [],
   "source": [
    "from lxml import html\n",
    "import requests\n",
    "import re"
   ]
  },
  {
   "cell_type": "code",
   "execution_count": 50,
   "metadata": {
    "collapsed": true
   },
   "outputs": [],
   "source": [
    "def createUrl(halIdNumber):\n",
    "    url = \"http://www.halleonard.com/product/viewproduct.action?itemid=\" + str(halIdNumber) + \"&subsiteid=1\"\n",
    "    return url"
   ]
  },
  {
   "cell_type": "code",
   "execution_count": 44,
   "metadata": {
    "collapsed": false
   },
   "outputs": [],
   "source": [
    "def getComposers(halUrl):\n",
    "    productInfo =[]\n",
    "    page = requests.get(halUrl)\n",
    "    tree = html.fromstring(page.content)\n",
    "    #This will create a list of buyers:\n",
    "    productSpecs = tree.xpath('//td[@class=\"productSpecs\"]/text()')\n",
    "    [productInfo.append(i.strip()) for i in productSpecs]\n",
    "    for index,item in enumerate(info):\n",
    "        if re.search('^Artist:',item):\n",
    "            return info[index]\n",
    "        elif re.search('^Composer:',item):\n",
    "            return info[index]\n",
    "    "
   ]
  },
  {
   "cell_type": "code",
   "execution_count": 51,
   "metadata": {
    "collapsed": true
   },
   "outputs": [],
   "source": [
    "def createCsv(input_file,output_file):\n",
    "    with open(output_file,'w+') as mycsvfile: #create output csv file for python to write on\n",
    "        writer = csv.writer(mycsvfile,delimiter=',')\n",
    "        with open(input_file, \"r\") as hal_ID: #open input file that has all the hal leonard ids on it\n",
    "            reader = csv.reader(hal_ID) # read in the hal leonard ids\n",
    "            for row in reader:\n",
    "                halID= row[0]\n",
    "                composer = getComposer(createUrl(halID))\n",
    "                writer.writerow([halID]+[composer]) #stackoverflow comma on every character creating a csv file stack overflow"
   ]
  },
  {
   "cell_type": "code",
   "execution_count": 48,
   "metadata": {
    "collapsed": false
   },
   "outputs": [
    {
     "name": "stdout",
     "output_type": "stream",
     "text": [
      "Composer: John Williams\n"
     ]
    }
   ],
   "source": [
    "if __name__ == '__main__':\n",
    "\n",
    "    # your code goes here\n",
    "    myUrl = createUrl(154451)\n",
    "    print(getComposers(myUrl))"
   ]
  },
  {
   "cell_type": "code",
   "execution_count": 45,
   "metadata": {
    "collapsed": false
   },
   "outputs": [
    {
     "data": {
      "text/plain": [
       "'Composer: John Williams'"
      ]
     },
     "execution_count": 45,
     "metadata": {},
     "output_type": "execute_result"
    }
   ],
   "source": [
    "myUrl = createUrl(154451)\n",
    "getComposers(myUrl)\n"
   ]
  }
 ],
 "metadata": {
  "kernelspec": {
   "display_name": "Python 3",
   "language": "python",
   "name": "python3"
  },
  "language_info": {
   "codemirror_mode": {
    "name": "ipython",
    "version": 3
   },
   "file_extension": ".py",
   "mimetype": "text/x-python",
   "name": "python",
   "nbconvert_exporter": "python",
   "pygments_lexer": "ipython3",
   "version": "3.4.3"
  }
 },
 "nbformat": 4,
 "nbformat_minor": 0
}
